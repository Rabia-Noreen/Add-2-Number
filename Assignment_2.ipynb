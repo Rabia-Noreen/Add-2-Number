{
  "nbformat": 4,
  "nbformat_minor": 0,
  "metadata": {
    "colab": {
      "provenance": [],
      "toc_visible": true,
      "authorship_tag": "ABX9TyOOjbFKCIHXmVyZDzOSPDmR",
      "include_colab_link": true
    },
    "kernelspec": {
      "name": "python3",
      "display_name": "Python 3"
    },
    "language_info": {
      "name": "python"
    }
  },
  "cells": [
    {
      "cell_type": "markdown",
      "metadata": {
        "id": "view-in-github",
        "colab_type": "text"
      },
      "source": [
        "<a href=\"https://colab.research.google.com/github/Rabia-Noreen/Add-2-Number/blob/main/Assignment_2.ipynb\" target=\"_parent\"><img src=\"https://colab.research.google.com/assets/colab-badge.svg\" alt=\"Open In Colab\"/></a>"
      ]
    },
    {
      "cell_type": "code",
      "execution_count": null,
      "metadata": {
        "id": "ppWtRJSr_xj_"
      },
      "outputs": [],
      "source": []
    },
    {
      "cell_type": "markdown",
      "source": [
        "Short Notes on Assigned Topics\n",
        "\n",
        "API: An Application Programming Interface (API) is a set of rules and protocols that allows software applications to communicate with each other seamlessly.\n",
        "SDK: A Software Development Kit (SDK) is a collection of tools, libraries, and documentation that helps developers build applications for specific platforms.\n",
        "Web APIs: Web APIs enable communication between applications over the internet, using protocols like HTTP to access web-based services.\n",
        "Library APIs: Library APIs provide predefined functions and classes within a programming library, simplifying the development process by offering reusable components.\n",
        "Prompting and Completion: Prompting involves crafting specific inputs for LLMs, while completion refers to the LLM's generated outputs in response to the prompt.\n"
      ],
      "metadata": {
        "id": "Ajw_6qDQ_84E"
      }
    }
  ]
}